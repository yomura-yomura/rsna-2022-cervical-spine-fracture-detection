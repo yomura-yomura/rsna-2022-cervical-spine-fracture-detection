{
 "cells": [
  {
   "cell_type": "code",
   "execution_count": 1,
   "outputs": [],
   "source": [
    "import os\n",
    "import pandas as pd\n",
    "\n",
    "os.chdir(\"./rsna-2022-cervical-spine-fracture-detection/visualize\")"
   ],
   "metadata": {
    "collapsed": false,
    "pycharm": {
     "name": "#%%\n"
    }
   }
  },
  {
   "cell_type": "code",
   "execution_count": 2,
   "outputs": [],
   "source": [
    "import CSFD.data.three_dimensions\n",
    "import CSFD.monai.from_checkpoint\n",
    "import pathlib"
   ],
   "metadata": {
    "collapsed": false,
    "pycharm": {
     "name": "#%%\n"
    }
   }
  },
  {
   "cell_type": "code",
   "execution_count": 3,
   "outputs": [
    {
     "data": {
      "text/plain": "{'dataset': {'type': 'train', 'data_root_path': '../data/rsna-2022-cervical-spine-fracture-detection', 'train_3d_images': '../data/3d_train_images_v2', 'data_type': 'f4', 'enable_depth_resized_with_cv2': True, 'depth_range': [0.1, 0.9], 'height_range': None, 'width_range': None, 'image_2d_shape': [256, 256], 'depth': 128, 'save_images_with_specific_depth': False, 'use_normalized_batches': True, 'type_to_load': 'npz', 'target_columns': ['patient_overall', 'C1', 'C2', 'C3', 'C4', 'C5', 'C6', 'C7'], 'cv': {'type': 'KFold', 'seed': 42, 'n_folds': 4, 'fold': None}, 'num_workers': None, 'train_batch_size': 4, 'valid_batch_size': 4, 'test_batch_size': 2}, 'model': {'seed': 42, 'name': 'EfficientNetBN', 'kwargs': {'model_name': 'efficientnet-b4', 'in_channels': 1, 'pretrained': True}, 'use_multi_sample_dropout': False, 'optimizer': {'name': 'AdamW', 'scheduler': {'name': None, 'kwargs': {}}}}, 'train': {'accelerator': 'gpu', 'devices': 1, 'precision': 16, 'seed': 42, 'max_epochs': 5, 'learning_rate': 1e-05, 'weight_decay': 0, 'name_prefix': '', 'name_suffix': 'test-v4.3', 'model_path': 'models', 'early_stopping': False, 'validation_interval': 0.2, 'evaluate_after_steps': 0, 'logging_interval': 10}}"
     },
     "execution_count": 3,
     "metadata": {},
     "output_type": "execute_result"
    }
   ],
   "source": [
    "model_path = pathlib.Path(\"../monai/models/EfficientNetBN_folds4_test-v4.3\")\n",
    "cfg, ckpt_paths = CSFD.monai.from_checkpoint.load_cfg_and_checkpoints(model_path)\n",
    "cfg"
   ],
   "metadata": {
    "collapsed": false,
    "pycharm": {
     "name": "#%%\n"
    }
   }
  },
  {
   "cell_type": "code",
   "execution_count": 4,
   "outputs": [
    {
     "name": "stdout",
     "output_type": "stream",
     "text": [
      "creating 3d images: 100%|███████████████████████████████████████████████████████████████████████████████████████████████████████████████████████████████████████████████████████████████████████████████████████████████████████████| 2018/2018 [00:00<00:00, 8462.97it/s]\n"
     ]
    },
    {
     "data": {
      "text/plain": "               StudyInstanceUID  patient_overall  C1  C2  C3  C4  C5  C6  C7  \\\n0      1.2.826.0.1.3680043.6200                1   1   1   0   0   0   0   0   \n1     1.2.826.0.1.3680043.27262                1   0   1   0   0   0   0   0   \n2     1.2.826.0.1.3680043.21561                1   0   1   0   0   0   0   0   \n3     1.2.826.0.1.3680043.12351                0   0   0   0   0   0   0   0   \n4      1.2.826.0.1.3680043.1363                1   0   0   0   0   1   0   0   \n...                         ...              ...  ..  ..  ..  ..  ..  ..  ..   \n2014  1.2.826.0.1.3680043.21684                1   0   1   0   0   0   1   1   \n2015   1.2.826.0.1.3680043.4786                1   0   0   0   0   0   0   1   \n2016  1.2.826.0.1.3680043.14341                0   0   0   0   0   0   0   0   \n2017  1.2.826.0.1.3680043.12053                0   0   0   0   0   0   0   0   \n2018  1.2.826.0.1.3680043.18786                1   0   0   0   0   0   0   1   \n\n      fold                                     np_images_path  \n0        1  ../data/3d_train_images_v2/256_256/normal/norm...  \n1        1  ../data/3d_train_images_v2/256_256/normal/norm...  \n2        1  ../data/3d_train_images_v2/256_256/normal/norm...  \n3        3  ../data/3d_train_images_v2/256_256/normal/norm...  \n4        3  ../data/3d_train_images_v2/256_256/normal/norm...  \n...    ...                                                ...  \n2014     3  ../data/3d_train_images_v2/256_256/normal/norm...  \n2015     1  ../data/3d_train_images_v2/256_256/normal/norm...  \n2016     0  ../data/3d_train_images_v2/256_256/normal/norm...  \n2017     3  ../data/3d_train_images_v2/256_256/normal/norm...  \n2018     0  ../data/3d_train_images_v2/256_256/normal/norm...  \n\n[2018 rows x 11 columns]",
      "text/html": "<div>\n<style scoped>\n    .dataframe tbody tr th:only-of-type {\n        vertical-align: middle;\n    }\n\n    .dataframe tbody tr th {\n        vertical-align: top;\n    }\n\n    .dataframe thead th {\n        text-align: right;\n    }\n</style>\n<table border=\"1\" class=\"dataframe\">\n  <thead>\n    <tr style=\"text-align: right;\">\n      <th></th>\n      <th>StudyInstanceUID</th>\n      <th>patient_overall</th>\n      <th>C1</th>\n      <th>C2</th>\n      <th>C3</th>\n      <th>C4</th>\n      <th>C5</th>\n      <th>C6</th>\n      <th>C7</th>\n      <th>fold</th>\n      <th>np_images_path</th>\n    </tr>\n  </thead>\n  <tbody>\n    <tr>\n      <th>0</th>\n      <td>1.2.826.0.1.3680043.6200</td>\n      <td>1</td>\n      <td>1</td>\n      <td>1</td>\n      <td>0</td>\n      <td>0</td>\n      <td>0</td>\n      <td>0</td>\n      <td>0</td>\n      <td>1</td>\n      <td>../data/3d_train_images_v2/256_256/normal/norm...</td>\n    </tr>\n    <tr>\n      <th>1</th>\n      <td>1.2.826.0.1.3680043.27262</td>\n      <td>1</td>\n      <td>0</td>\n      <td>1</td>\n      <td>0</td>\n      <td>0</td>\n      <td>0</td>\n      <td>0</td>\n      <td>0</td>\n      <td>1</td>\n      <td>../data/3d_train_images_v2/256_256/normal/norm...</td>\n    </tr>\n    <tr>\n      <th>2</th>\n      <td>1.2.826.0.1.3680043.21561</td>\n      <td>1</td>\n      <td>0</td>\n      <td>1</td>\n      <td>0</td>\n      <td>0</td>\n      <td>0</td>\n      <td>0</td>\n      <td>0</td>\n      <td>1</td>\n      <td>../data/3d_train_images_v2/256_256/normal/norm...</td>\n    </tr>\n    <tr>\n      <th>3</th>\n      <td>1.2.826.0.1.3680043.12351</td>\n      <td>0</td>\n      <td>0</td>\n      <td>0</td>\n      <td>0</td>\n      <td>0</td>\n      <td>0</td>\n      <td>0</td>\n      <td>0</td>\n      <td>3</td>\n      <td>../data/3d_train_images_v2/256_256/normal/norm...</td>\n    </tr>\n    <tr>\n      <th>4</th>\n      <td>1.2.826.0.1.3680043.1363</td>\n      <td>1</td>\n      <td>0</td>\n      <td>0</td>\n      <td>0</td>\n      <td>0</td>\n      <td>1</td>\n      <td>0</td>\n      <td>0</td>\n      <td>3</td>\n      <td>../data/3d_train_images_v2/256_256/normal/norm...</td>\n    </tr>\n    <tr>\n      <th>...</th>\n      <td>...</td>\n      <td>...</td>\n      <td>...</td>\n      <td>...</td>\n      <td>...</td>\n      <td>...</td>\n      <td>...</td>\n      <td>...</td>\n      <td>...</td>\n      <td>...</td>\n      <td>...</td>\n    </tr>\n    <tr>\n      <th>2014</th>\n      <td>1.2.826.0.1.3680043.21684</td>\n      <td>1</td>\n      <td>0</td>\n      <td>1</td>\n      <td>0</td>\n      <td>0</td>\n      <td>0</td>\n      <td>1</td>\n      <td>1</td>\n      <td>3</td>\n      <td>../data/3d_train_images_v2/256_256/normal/norm...</td>\n    </tr>\n    <tr>\n      <th>2015</th>\n      <td>1.2.826.0.1.3680043.4786</td>\n      <td>1</td>\n      <td>0</td>\n      <td>0</td>\n      <td>0</td>\n      <td>0</td>\n      <td>0</td>\n      <td>0</td>\n      <td>1</td>\n      <td>1</td>\n      <td>../data/3d_train_images_v2/256_256/normal/norm...</td>\n    </tr>\n    <tr>\n      <th>2016</th>\n      <td>1.2.826.0.1.3680043.14341</td>\n      <td>0</td>\n      <td>0</td>\n      <td>0</td>\n      <td>0</td>\n      <td>0</td>\n      <td>0</td>\n      <td>0</td>\n      <td>0</td>\n      <td>0</td>\n      <td>../data/3d_train_images_v2/256_256/normal/norm...</td>\n    </tr>\n    <tr>\n      <th>2017</th>\n      <td>1.2.826.0.1.3680043.12053</td>\n      <td>0</td>\n      <td>0</td>\n      <td>0</td>\n      <td>0</td>\n      <td>0</td>\n      <td>0</td>\n      <td>0</td>\n      <td>0</td>\n      <td>3</td>\n      <td>../data/3d_train_images_v2/256_256/normal/norm...</td>\n    </tr>\n    <tr>\n      <th>2018</th>\n      <td>1.2.826.0.1.3680043.18786</td>\n      <td>1</td>\n      <td>0</td>\n      <td>0</td>\n      <td>0</td>\n      <td>0</td>\n      <td>0</td>\n      <td>0</td>\n      <td>1</td>\n      <td>0</td>\n      <td>../data/3d_train_images_v2/256_256/normal/norm...</td>\n    </tr>\n  </tbody>\n</table>\n<p>2018 rows × 11 columns</p>\n</div>"
     },
     "execution_count": 4,
     "metadata": {},
     "output_type": "execute_result"
    }
   ],
   "source": [
    "cfg.dataset.cv.type = \"StratifiedKFold\"\n",
    "df = CSFD.data.three_dimensions.get_df(cfg.dataset)\n",
    "df"
   ],
   "metadata": {
    "collapsed": false,
    "pycharm": {
     "name": "#%%\n"
    }
   }
  },
  {
   "cell_type": "code",
   "execution_count": 5,
   "outputs": [],
   "source": [
    "import plotly.express as px"
   ],
   "metadata": {
    "collapsed": false,
    "pycharm": {
     "name": "#%%\n"
    }
   }
  },
  {
   "cell_type": "code",
   "execution_count": null,
   "outputs": [],
   "source": [
    "fig = px.histogram(df, x=\"patient_overall\", color=\"fold\", barmode=\"group\")\n",
    "fig.show()"
   ],
   "metadata": {
    "collapsed": false,
    "pycharm": {
     "name": "#%%\n",
     "is_executing": true
    }
   }
  },
  {
   "cell_type": "code",
   "execution_count": 30,
   "outputs": [
    {
     "data": {
      "text/plain": "((128, 256, 256), 8388608)"
     },
     "execution_count": 30,
     "metadata": {},
     "output_type": "execute_result"
    }
   ],
   "source": [
    "import numpy as np\n",
    "import tqdm\n",
    "images = np.load(df[\"np_images_path\"].iloc[0])[\"arr_0\"]\n",
    "# images = CSFD.data.three_dimensions.resize_depth(images, depth=cfg.dataset.depth, depth_range=cfg.dataset.depth_range, enable_depth_resized_with_cv2=cfg.dataset.enable_depth_resized_with_cv2)\n",
    "np.histogram(images.flatten(), bins=np.linspace(0, 255, 300))\n",
    "\n",
    "images.shape, images.size"
   ],
   "metadata": {
    "collapsed": false,
    "pycharm": {
     "name": "#%%\n"
    }
   }
  },
  {
   "cell_type": "code",
   "execution_count": null,
   "outputs": [],
   "source": [
    "fig = px.imshow(images[20:30],\n",
    "                animation_frame=0,\n",
    "                color_continuous_scale='gray',\n",
    "                zmin=0, zmax=255\n",
    "                )\n",
    "fig.show()"
   ],
   "metadata": {
    "collapsed": false,
    "pycharm": {
     "name": "#%%\n",
     "is_executing": true
    }
   }
  },
  {
   "cell_type": "code",
   "execution_count": null,
   "outputs": [],
   "source": [],
   "metadata": {
    "collapsed": false,
    "pycharm": {
     "name": "#%%\n"
    }
   }
  }
 ],
 "metadata": {
  "kernelspec": {
   "display_name": "Python 3",
   "language": "python",
   "name": "python3"
  },
  "language_info": {
   "codemirror_mode": {
    "name": "ipython",
    "version": 2
   },
   "file_extension": ".py",
   "mimetype": "text/x-python",
   "name": "python",
   "nbconvert_exporter": "python",
   "pygments_lexer": "ipython2",
   "version": "2.7.6"
  }
 },
 "nbformat": 4,
 "nbformat_minor": 0
}