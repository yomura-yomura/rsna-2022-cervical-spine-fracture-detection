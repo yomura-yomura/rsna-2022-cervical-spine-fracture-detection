{
 "cells": [
  {
   "cell_type": "code",
   "execution_count": 58,
   "metadata": {},
   "outputs": [],
   "source": [
    "import gc\n",
    "import glob\n",
    "import os\n",
    "import re\n",
    "import sys\n",
    "sys.path.append(\"../\")\n",
    "sys.path.append(\"../../\")\n",
    "from src.make_data import effnet_binary_data as effnet_data\n",
    "from src.model import effnetv2_1\n",
    "import utils\n",
    "from src.model import custom_metric\n",
    "import cv2\n",
    "import matplotlib.pyplot as plt\n",
    "import numpy as np\n",
    "import pandas as pd\n",
    "import pydicom as dicom\n",
    "import torch\n",
    "from torch.cuda.amp import GradScaler, autocast\n",
    "from torchmetrics import AUROC\n",
    "import torchvision as tv\n",
    "from torchvision.models.feature_extraction import create_feature_extractor\n",
    "from tqdm import tqdm\n",
    "import warnings\n",
    "import joblib\n",
    "import wandb\n",
    "from pathlib import Path\n",
    "\n",
    "cfg = utils.load_yaml(Path(\"../../config/config.yaml\"))\n",
    "#DATA PATH\n",
    "RSNA_2022_PATH = cfg[\"data\"][\"RSNA_2022_PATH\"]\n",
    "TRAIN_IMAGES_PATH = f'{RSNA_2022_PATH}/train_images'\n",
    "TEST_IMAGES_PATH = f'{RSNA_2022_PATH}/test_images'\n",
    "EFFNET_CHECKPOINTS_PATH = cfg[\"data\"][\"EFFNET_CHECKPOINTS_PATH\"]\n",
    "METADATA_PATH = cfg[\"data\"][\"METADATA_PATH\"]\n",
    "\n",
    "WEIGHTS = tv.models.efficientnet.EfficientNet_V2_S_Weights.DEFAULT\n",
    "N_FOLDS = 3\n",
    "#Read csv data for slicing\n",
    "df_train = pd.read_csv(f'{RSNA_2022_PATH}/train.csv')\n",
    "df_train_slices = pd.read_csv(f'{METADATA_PATH}/train_segmented.csv')\n",
    "df_test = pd.read_csv(f'{RSNA_2022_PATH}/test.csv')\n",
    "df_train_box = pd.read_csv(f\"{RSNA_2022_PATH}/cropped_2d_labels.csv\")\n",
    "\n",
    "#df_train, df_train_slices, df_test, df_test_slices = effnet_data.preprocess( df_train=df_train,\n",
    "#    df_train_slices=df_train_slices,\n",
    "#    df_train_box=df_train_box,\n",
    "#    df_test=df_test,\n",
    "#    TEST_IMAGES_PATH=TEST_IMAGES_PATH,\n",
    "#    N_FOLDS=N_FOLDS,\n",
    "#)\n",
    "#PreProcess and Effnetdata\n",
    "data_path = Path(\"/home/jumpei.uchida/develop/kaggle_1080ti_1_2/rsna-2022-cervical-spine-fracture-detection/fold0\")\n",
    "effnet_models = []\n",
    "check_points =\"/home/jumpei.uchida/develop/kaggle_1080ti_1_2/rsna-2022-cervical-spine-fracture-detection/effnet/src/saved_model/effnet\""
   ]
  },
  {
   "cell_type": "code",
   "execution_count": 59,
   "metadata": {},
   "outputs": [],
   "source": [
    "\n",
    "# detect reversed slice uid\n",
    "uid_list = list(df_train_box[\"StudyInstanceUID\"].unique())\n",
    "df_train = df_train.query(\"StudyInstanceUID != @uid_list & patient_overall == 1\")[\n",
    "    [\"StudyInstanceUID\", \"patient_overall\"]\n",
    "].reset_index(drop=True)\n",
    "\n",
    "train_uid = list(df_train[\"StudyInstanceUID\"].unique())\n",
    "df_train = (\n",
    "    df_train_slices[[\"StudyInstanceUID\", \"Slice\"]]\n",
    "    .query(\"StudyInstanceUID == @train_uid\")\n",
    "    .merge(df_train, on=\"StudyInstanceUID\", how=\"left\")\n",
    ")\n",
    "# reject bug StudyInstanceUID\n",
    "df_train = df_train.query(\n",
    "    'StudyInstanceUID != \"1.2.826.0.1.3680043.20574\"'\n",
    ").reset_index(drop=True)"
   ]
  },
  {
   "cell_type": "code",
   "execution_count": 60,
   "metadata": {},
   "outputs": [],
   "source": [
    "def evaluate_effnet(model: effnetv2_1.EffnetModel, ds, max_batches=1000000000000000, shuffle=False,DEVICE =\"cuda\"):\n",
    "    torch.manual_seed(42)\n",
    "    model = model.to(DEVICE)\n",
    "    dl_test = torch.utils.data.DataLoader(ds, batch_size=32, shuffle=shuffle, num_workers=os.cpu_count(),\n",
    "                                          collate_fn=utils.filter_nones)\n",
    "    pred_frac = []\n",
    "    valid_list = []\n",
    "    auroc = AUROC(pos_label=1)\n",
    "    with torch.no_grad():\n",
    "        model.eval()\n",
    "        frac_losses = []\n",
    "        with tqdm(dl_test, desc='Eval', miniters=1) as progress:\n",
    "            for i, (X, y_frac) in enumerate(progress):\n",
    "                with autocast():\n",
    "                    y_frac_pred= model.forward(X.to(DEVICE))\n",
    "                    #Binary Cross Entoropy\n",
    "                    frac_loss = torch.nn.functional.binary_cross_entropy_with_logits(y_frac_pred.to(DEVICE),y_frac.to(DEVICE),reduction='none')\n",
    "                    valid_score = auroc(torch.sigmoid(y_frac_pred).to(DEVICE),y_frac.to(DEVICE).to(torch.int64))\n",
    "                    valid_list.append(valid_score.cpu())\n",
    "                    pred_frac.append(torch.sigmoid(y_frac_pred))\n",
    "                    frac_losses.append(torch.mean(frac_loss).cpu())\n",
    "                if i >= max_batches:\n",
    "                    break\n",
    "        return np.mean(frac_losses), torch.concat(pred_frac).cpu().numpy(),np.mean(valid_list)\n",
    "\n",
    "def gen_effnet_predictions(effnet_models, df_train,EFFNET_CHECKPOINTS_PATH = EFFNET_CHECKPOINTS_PATH):\n",
    "    if os.path.exists(os.path.join(EFFNET_CHECKPOINTS_PATH, 'train_{PROJECT_NAME}_{MODEL_NAME}_predictions.csv')):\n",
    "        print('Found cached version of train_predictions.csv')\n",
    "        df_eval_effnet_pred = pd.read_csv(os.path.join(EFFNET_CHECKPOINTS_PATH, 'eval_{PROJECT_NAME}_{MODEL_NAME}_predictions.csv'))\n",
    "    else:\n",
    "        df_eval_predictions = []\n",
    "        with tqdm(enumerate(effnet_models), total=len(effnet_models), desc='Folds') as progress:\n",
    "            for fold, effnet_model in progress:\n",
    "                ds_eval = effnet_data.EffnetDataSet(df_train, TRAIN_IMAGES_PATH, WEIGHTS.transforms())\n",
    "\n",
    "                #valid_prediction\n",
    "                eval_frac_loss, eval_effnet_pred_frac,eval_valid_score = evaluate_effnet(effnet_model, ds_eval, 32)\n",
    "                progress.set_description(f'Fold loss:{eval_frac_loss:.02f}, Fold score:{eval_valid_score:.02f}')\n",
    "                df_eval_effnet_pred = pd.DataFrame(data=eval_effnet_pred_frac,\n",
    "                                              columns=[\"pred\"])\n",
    "\n",
    "                df_eval = pd.concat(\n",
    "                    [df_train.head(len(df_eval_effnet_pred)).reset_index(drop=True), df_eval_effnet_pred],\n",
    "                    axis=1\n",
    "                ).sort_values(['StudyInstanceUID', 'Slice'])\n",
    "\n",
    "                df_eval.to_csv(f'{EFFNET_CHECKPOINTS_PATH}/FOLD{fold}_remained_eval_prediction.csv')\n",
    "\n",
    "        #df_train_predictions,\n",
    "    return df_eval_predictions"
   ]
  },
  {
   "cell_type": "code",
   "execution_count": 61,
   "metadata": {},
   "outputs": [],
   "source": [
    "\n",
    "effnet_models = [utils.load_model(effnetv2_1.EffnetModel(), f'effnet_second-f{i}', check_points) for i in range(3)]"
   ]
  },
  {
   "cell_type": "code",
   "execution_count": 62,
   "metadata": {},
   "outputs": [
    {
     "name": "stderr",
     "output_type": "stream",
     "text": [
      "Eval:   0%|          | 32/7597 [00:13<51:27,  2.45it/s]\n",
      "Eval:   0%|          | 32/7597 [00:12<50:43,  2.49it/s]00:13<00:26, 13.15s/it]\n",
      "Eval:   0%|          | 32/7597 [00:12<51:13,  2.46it/s]00:26<00:13, 13.04s/it]\n",
      "Fold loss:4.60, Fold score:0.00: 100%|██████████| 3/3 [00:39<00:00, 13.07s/it]\n"
     ]
    },
    {
     "data": {
      "text/plain": [
       "[]"
      ]
     },
     "execution_count": 62,
     "metadata": {},
     "output_type": "execute_result"
    }
   ],
   "source": [
    "gen_effnet_predictions(effnet_models=effnet_models,df_train = df_train,EFFNET_CHECKPOINTS_PATH=check_points)"
   ]
  },
  {
   "cell_type": "code",
   "execution_count": null,
   "metadata": {},
   "outputs": [],
   "source": []
  }
 ],
 "metadata": {
  "kernelspec": {
   "display_name": "Python 3.9.12 ('rsna-2022-cervical-spine-fracture-detectio--CY1vaQI')",
   "language": "python",
   "name": "python3"
  },
  "language_info": {
   "codemirror_mode": {
    "name": "ipython",
    "version": 3
   },
   "file_extension": ".py",
   "mimetype": "text/x-python",
   "name": "python",
   "nbconvert_exporter": "python",
   "pygments_lexer": "ipython3",
   "version": "3.9.12"
  },
  "orig_nbformat": 4,
  "vscode": {
   "interpreter": {
    "hash": "9543f5d01a1500c6a5cd37c6db0f31fe3955bfe154c36c5ae281c10861deee7b"
   }
  }
 },
 "nbformat": 4,
 "nbformat_minor": 2
}
